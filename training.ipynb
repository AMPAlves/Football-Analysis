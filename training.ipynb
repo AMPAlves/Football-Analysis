{
 "cells": [
  {
   "cell_type": "code",
   "execution_count": null,
   "metadata": {},
   "outputs": [],
   "source": [
    "import pickle\n",
    "from ultralytics import YOLO\n",
    "import os\n",
    "\n",
    "if not os.path.exists('trained_model'):\n",
    "    model = YOLO(\"models/best.pt\")\n",
    "    with open('trained_model.pkl', \"wb\") as file:\n",
    "        pickle.dump(model,file)\n",
    "else:\n",
    "    with open('trained_model.pkl', \"rb\") as file:\n",
    "        model = pickle.load(file)"
   ]
  },
  {
   "cell_type": "code",
   "execution_count": null,
   "metadata": {},
   "outputs": [],
   "source": [
    "from roboflow import Roboflow\n",
    "import key_utils\n",
    "\n",
    "rf = Roboflow(api_key=key_utils.API_ROBOFLOW)\n",
    "project = rf.workspace(\"alberto-alves-n6pue\").project(\"footballanalytics\")\n",
    "version = project.version(5)\n",
    "dataset = version.download(\"yolov8\")"
   ]
  },
  {
   "cell_type": "code",
   "execution_count": null,
   "metadata": {},
   "outputs": [],
   "source": [
    "# !yolo task=detect mode=train model=yolov8x.pt data={dataset.location}/data.yaml epochs=50 batch=5 device=0 save_period=10 imgsz=1280\n",
    "\n",
    "model = YOLO(\"yolov8x.pt\")\n",
    "training_model = model.train(data=\"footballanalytics-5/data.yaml\", device=0, epochs=50, batch=5, save_period=10, imgsz=1280)"
   ]
  }
 ],
 "metadata": {
  "kernelspec": {
   "display_name": ".venv",
   "language": "python",
   "name": "python3"
  },
  "language_info": {
   "codemirror_mode": {
    "name": "ipython",
    "version": 3
   },
   "file_extension": ".py",
   "mimetype": "text/x-python",
   "name": "python",
   "nbconvert_exporter": "python",
   "pygments_lexer": "ipython3",
   "version": "3.11.5"
  }
 },
 "nbformat": 4,
 "nbformat_minor": 2
}
